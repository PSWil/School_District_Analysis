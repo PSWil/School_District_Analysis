{
 "cells": [
  {
   "cell_type": "code",
   "execution_count": 10,
   "source": [
    "class Cat:\r\n",
    "    def __init__(self, name):\r\n",
    "        self.name = name\r\n",
    "\r\n",
    "first_cat = Cat('Felix')\r\n",
    "print(first_cat.name)\r\n",
    "\r\n",
    "second_cat = Cat('Garfield')\r\n",
    "print(second_cat.name)"
   ],
   "outputs": [
    {
     "output_type": "stream",
     "name": "stdout",
     "text": [
      "Felix\n",
      "Garfield\n"
     ]
    }
   ],
   "metadata": {}
  },
  {
   "cell_type": "code",
   "execution_count": 11,
   "source": [
    "class Dog:\r\n",
    "    def __init__(self, name, color, sound):\r\n",
    "        self.name = name\r\n",
    "        self.color = color\r\n",
    "        self.sound = sound\r\n",
    "\r\n",
    "    def bark(self):\r\n",
    "        return self.sound + ' ' + self.sound\r\n",
    "\r\n",
    "first_dog = Dog('Fido', 'brown', 'woof!')\r\n",
    "print(    first_dog.name)\r\n",
    "print(first_dog.color)\r\n",
    "first_dog.bark()\r\n",
    "\r\n",
    "second_dog = Dog('Lady', 'blond', 'arf!')\r\n",
    "print(    second_dog.name)\r\n",
    "print(second_dog.color)\r\n",
    "second_dog.bark()"
   ],
   "outputs": [
    {
     "output_type": "stream",
     "name": "stdout",
     "text": [
      "Fido\n",
      "brown\n",
      "Lady\n",
      "blond\n"
     ]
    },
    {
     "output_type": "execute_result",
     "data": {
      "text/plain": [
       "'arf! arf!'"
      ]
     },
     "metadata": {},
     "execution_count": 11
    }
   ],
   "metadata": {}
  },
  {
   "cell_type": "code",
   "execution_count": 12,
   "source": [],
   "outputs": [
    {
     "output_type": "error",
     "ename": "NameError",
     "evalue": "name 'df' is not defined",
     "traceback": [
      "\u001b[1;31m---------------------------------------------------------------------------\u001b[0m",
      "\u001b[1;31mNameError\u001b[0m                                 Traceback (most recent call last)",
      "\u001b[1;32m<ipython-input-12-c42a15b2c7cf>\u001b[0m in \u001b[0;36m<module>\u001b[1;34m\u001b[0m\n\u001b[1;32m----> 1\u001b[1;33m \u001b[0mdf\u001b[0m\u001b[1;33m.\u001b[0m\u001b[0mhead\u001b[0m\u001b[1;33m(\u001b[0m\u001b[1;33m)\u001b[0m\u001b[1;33m\u001b[0m\u001b[1;33m\u001b[0m\u001b[0m\n\u001b[0m",
      "\u001b[1;31mNameError\u001b[0m: name 'df' is not defined"
     ]
    }
   ],
   "metadata": {}
  }
 ],
 "metadata": {
  "kernelspec": {
   "name": "python3",
   "display_name": "Python 3.7.10 64-bit ('PythonData': conda)"
  },
  "language_info": {
   "codemirror_mode": {
    "name": "ipython",
    "version": 3
   },
   "file_extension": ".py",
   "mimetype": "text/x-python",
   "name": "python",
   "nbconvert_exporter": "python",
   "pygments_lexer": "ipython3",
   "version": "3.7.10"
  },
  "interpreter": {
   "hash": "cde001575064237285d3a8e3841308f9ede4877341d1fd607f876d7506b0ac09"
  }
 },
 "nbformat": 4,
 "nbformat_minor": 5
}