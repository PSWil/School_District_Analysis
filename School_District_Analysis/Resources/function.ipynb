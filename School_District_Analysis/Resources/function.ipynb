{
 "cells": [
  {
   "cell_type": "code",
   "execution_count": 91,
   "source": [
    "# Define the function \"say_hello\" so it prints \"Hello!\" when called.\r\n",
    "def say_hello():\r\n",
    "    print(\"Hello!\")"
   ],
   "outputs": [],
   "metadata": {}
  },
  {
   "cell_type": "code",
   "execution_count": 92,
   "source": [
    "# Call the function\r\n",
    "say_hello()"
   ],
   "outputs": [
    {
     "output_type": "stream",
     "name": "stdout",
     "text": [
      "Hello!\n"
     ]
    }
   ],
   "metadata": {}
  },
  {
   "cell_type": "code",
   "execution_count": 93,
   "source": [
    "# Define the function \"say_something\" so it prints whatever is passed as the variable when called.\r\n",
    "def say_something(something):\r\n",
    "    print(Jane_says)"
   ],
   "outputs": [],
   "metadata": {}
  },
  {
   "cell_type": "code",
   "execution_count": 94,
   "source": [
    "# Call the function\r\n",
    "#say_something(\"Hello World\")"
   ],
   "outputs": [],
   "metadata": {}
  },
  {
   "cell_type": "code",
   "execution_count": 95,
   "source": [
    "Jane_says = \"Hi, my name is Jane. I'm learning python!\"\r\n",
    "say_something(Jane_says)"
   ],
   "outputs": [
    {
     "output_type": "stream",
     "name": "stdout",
     "text": [
      "Hi, my name is Jane. I'm learning python!\n"
     ]
    }
   ],
   "metadata": {}
  },
  {
   "cell_type": "code",
   "execution_count": 96,
   "source": [
    "# A list of my grades.\r\n",
    "my_grades = ['B', 'C', 'B' , 'D']\r\n",
    "# Import pandas.\r\n",
    "import pandas as pd\r\n",
    "# Convert the my_grades to a Series\r\n",
    "my_grades = pd.Series(my_grades)\r\n",
    "my_grades"
   ],
   "outputs": [
    {
     "output_type": "execute_result",
     "data": {
      "text/plain": [
       "0    B\n",
       "1    C\n",
       "2    B\n",
       "3    D\n",
       "dtype: object"
      ]
     },
     "metadata": {},
     "execution_count": 96
    }
   ],
   "metadata": {}
  },
  {
   "cell_type": "code",
   "execution_count": 97,
   "source": [
    "# Change the grades by one letter grade.\r\n",
    "my_grades.map({'B': 'A', 'C': 'B', 'D': 'C'})"
   ],
   "outputs": [
    {
     "output_type": "execute_result",
     "data": {
      "text/plain": [
       "0    A\n",
       "1    B\n",
       "2    A\n",
       "3    C\n",
       "dtype: object"
      ]
     },
     "metadata": {},
     "execution_count": 97
    }
   ],
   "metadata": {}
  },
  {
   "cell_type": "code",
   "execution_count": 98,
   "source": [
    "# Using the format() function.\r\n",
    "my_grades = [92.34, 84.56, 86.78, 98.32]\r\n",
    "\r\n",
    "for grade in my_grades:\r\n",
    "    print(\"{:.0f}\".format(grade))"
   ],
   "outputs": [
    {
     "output_type": "stream",
     "name": "stdout",
     "text": [
      "92\n",
      "85\n",
      "87\n",
      "98\n"
     ]
    }
   ],
   "metadata": {}
  },
  {
   "cell_type": "code",
   "execution_count": 99,
   "source": [
    "# Convert the numerical grades to a Series.\r\n",
    "my_grades = pd.Series([92.34, 84.56, 86.78, 78.32])\r\n",
    "# Format the grades to the nearest whole number percent.\r\n",
    "my_grades.map(\"{:.0f}\".format)"
   ],
   "outputs": [
    {
     "output_type": "execute_result",
     "data": {
      "text/plain": [
       "0    92\n",
       "1    85\n",
       "2    87\n",
       "3    78\n",
       "dtype: object"
      ]
     },
     "metadata": {},
     "execution_count": 99
    }
   ],
   "metadata": {}
  }
 ],
 "metadata": {
  "orig_nbformat": 4,
  "language_info": {
   "name": "python",
   "version": "3.7.10",
   "mimetype": "text/x-python",
   "codemirror_mode": {
    "name": "ipython",
    "version": 3
   },
   "pygments_lexer": "ipython3",
   "nbconvert_exporter": "python",
   "file_extension": ".py"
  },
  "kernelspec": {
   "name": "python3",
   "display_name": "Python 3.7.10 64-bit ('PythonData': conda)"
  },
  "interpreter": {
   "hash": "cde001575064237285d3a8e3841308f9ede4877341d1fd607f876d7506b0ac09"
  }
 },
 "nbformat": 4,
 "nbformat_minor": 2
}